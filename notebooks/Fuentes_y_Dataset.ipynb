{
 "cells": [
  {
   "cell_type": "markdown",
   "id": "194f7ebe",
   "metadata": {},
   "source": [
    "# Fuente:\n",
    "### Kaggle: [Resultados de estudiantes](https://www.kaggle.com/datasets/lainguyn123/student-performance-factors)\n",
    "\n",
    "#### Significado de cada Variable:\n",
    "- Hours_Studied: Number of hours spent studying per week\n",
    "- Attendance: Percentage of classes attended\n",
    "- Parental_Involvement: Level of parental involvement in the student's education (Low, Medium, High).\n",
    "- Access_to_Resources: Availability of educational resources (Low, Medium, High).\n",
    "- Extracurricular_Activities: Participation in extracurricular activities (Yes, No).\n",
    "- Sleep_Hours: Average number of hours of sleep per night.\n",
    "- Previous_Scores: Scores from previous exams.\n",
    "- Motivation_Level: Student's level of motivation (Low, Medium, High).\n",
    "- Internet_Access: Availability of internet access (Yes, No).\n",
    "- Tutoring_Sessions: Number of tutoring sessions attended per month.\n",
    "- Family_Income: Family income level (Low, Medium, High).\n",
    "- Teacher_Quality: Quality of the teachers (Low, Medium, High).\n",
    "- School_Type: Type of school attended (Public, Private).\n",
    "- Peer_Influence: Influence of peers on academic performance (Positive, Neutral, Negative).\n",
    "- Physical_Activity: Average number of hours of physical activity per week.\n",
    "- Learning_Disabilities: Presence of learning disabilities (Yes, No).\n",
    "- Parental_Education_Level: Highest education level of parents (High School, College, Postgraduate).\n",
    "- Distance_from_Home: Distance from home to school (Near, Moderate, Far).\n",
    "- Gender: Gender of the student (Male, Female).\n",
    "- <span style=\"display: inline-block; vertical-align: bottom;\">Exam_Score: Final exam score.</span>\n",
    "<span style=\"display: inline-block; vertical-align: bottom; font-size: 0.6em;\">(Target)</span>"
   ]
  },
  {
   "cell_type": "markdown",
   "id": "2af74aad",
   "metadata": {},
   "source": [
    "## Importación de librerías"
   ]
  },
  {
   "cell_type": "code",
   "execution_count": 1,
   "id": "732a130a",
   "metadata": {},
   "outputs": [],
   "source": [
    "import numpy as np\n",
    "import pandas as pd\n",
    "import matplotlib.pyplot as plt\n",
    "import seaborn as sns"
   ]
  },
  {
   "cell_type": "markdown",
   "id": "0af0fd49",
   "metadata": {},
   "source": [
    "### Lectura del Dataset y primer vistazo"
   ]
  },
  {
   "cell_type": "code",
   "execution_count": 30,
   "id": "e0a11e6e",
   "metadata": {},
   "outputs": [],
   "source": [
    "df = pd.read_csv(r'C:\\Users\\plaza\\Desktop\\Documentos_Clase\\ONLINE_DS_THEBRIDGE_Alejandro_Plaza\\Proyecto_ML\\data\\raw\\StudentPerformanceFactors.csv')"
   ]
  },
  {
   "cell_type": "code",
   "execution_count": 31,
   "id": "49a3f6fb",
   "metadata": {},
   "outputs": [
    {
     "data": {
      "text/html": [
       "<div>\n",
       "<style scoped>\n",
       "    .dataframe tbody tr th:only-of-type {\n",
       "        vertical-align: middle;\n",
       "    }\n",
       "\n",
       "    .dataframe tbody tr th {\n",
       "        vertical-align: top;\n",
       "    }\n",
       "\n",
       "    .dataframe thead th {\n",
       "        text-align: right;\n",
       "    }\n",
       "</style>\n",
       "<table border=\"1\" class=\"dataframe\">\n",
       "  <thead>\n",
       "    <tr style=\"text-align: right;\">\n",
       "      <th></th>\n",
       "      <th>Hours_Studied</th>\n",
       "      <th>Attendance</th>\n",
       "      <th>Parental_Involvement</th>\n",
       "      <th>Access_to_Resources</th>\n",
       "      <th>Extracurricular_Activities</th>\n",
       "      <th>Sleep_Hours</th>\n",
       "      <th>Previous_Scores</th>\n",
       "      <th>Motivation_Level</th>\n",
       "      <th>Internet_Access</th>\n",
       "      <th>Tutoring_Sessions</th>\n",
       "      <th>Family_Income</th>\n",
       "      <th>Teacher_Quality</th>\n",
       "      <th>School_Type</th>\n",
       "      <th>Peer_Influence</th>\n",
       "      <th>Physical_Activity</th>\n",
       "      <th>Learning_Disabilities</th>\n",
       "      <th>Parental_Education_Level</th>\n",
       "      <th>Distance_from_Home</th>\n",
       "      <th>Gender</th>\n",
       "      <th>Exam_Score</th>\n",
       "    </tr>\n",
       "  </thead>\n",
       "  <tbody>\n",
       "    <tr>\n",
       "      <th>0</th>\n",
       "      <td>23</td>\n",
       "      <td>84</td>\n",
       "      <td>Low</td>\n",
       "      <td>High</td>\n",
       "      <td>No</td>\n",
       "      <td>7</td>\n",
       "      <td>73</td>\n",
       "      <td>Low</td>\n",
       "      <td>Yes</td>\n",
       "      <td>0</td>\n",
       "      <td>Low</td>\n",
       "      <td>Medium</td>\n",
       "      <td>Public</td>\n",
       "      <td>Positive</td>\n",
       "      <td>3</td>\n",
       "      <td>No</td>\n",
       "      <td>High School</td>\n",
       "      <td>Near</td>\n",
       "      <td>Male</td>\n",
       "      <td>67</td>\n",
       "    </tr>\n",
       "    <tr>\n",
       "      <th>1</th>\n",
       "      <td>19</td>\n",
       "      <td>64</td>\n",
       "      <td>Low</td>\n",
       "      <td>Medium</td>\n",
       "      <td>No</td>\n",
       "      <td>8</td>\n",
       "      <td>59</td>\n",
       "      <td>Low</td>\n",
       "      <td>Yes</td>\n",
       "      <td>2</td>\n",
       "      <td>Medium</td>\n",
       "      <td>Medium</td>\n",
       "      <td>Public</td>\n",
       "      <td>Negative</td>\n",
       "      <td>4</td>\n",
       "      <td>No</td>\n",
       "      <td>College</td>\n",
       "      <td>Moderate</td>\n",
       "      <td>Female</td>\n",
       "      <td>61</td>\n",
       "    </tr>\n",
       "    <tr>\n",
       "      <th>2</th>\n",
       "      <td>24</td>\n",
       "      <td>98</td>\n",
       "      <td>Medium</td>\n",
       "      <td>Medium</td>\n",
       "      <td>Yes</td>\n",
       "      <td>7</td>\n",
       "      <td>91</td>\n",
       "      <td>Medium</td>\n",
       "      <td>Yes</td>\n",
       "      <td>2</td>\n",
       "      <td>Medium</td>\n",
       "      <td>Medium</td>\n",
       "      <td>Public</td>\n",
       "      <td>Neutral</td>\n",
       "      <td>4</td>\n",
       "      <td>No</td>\n",
       "      <td>Postgraduate</td>\n",
       "      <td>Near</td>\n",
       "      <td>Male</td>\n",
       "      <td>74</td>\n",
       "    </tr>\n",
       "    <tr>\n",
       "      <th>3</th>\n",
       "      <td>29</td>\n",
       "      <td>89</td>\n",
       "      <td>Low</td>\n",
       "      <td>Medium</td>\n",
       "      <td>Yes</td>\n",
       "      <td>8</td>\n",
       "      <td>98</td>\n",
       "      <td>Medium</td>\n",
       "      <td>Yes</td>\n",
       "      <td>1</td>\n",
       "      <td>Medium</td>\n",
       "      <td>Medium</td>\n",
       "      <td>Public</td>\n",
       "      <td>Negative</td>\n",
       "      <td>4</td>\n",
       "      <td>No</td>\n",
       "      <td>High School</td>\n",
       "      <td>Moderate</td>\n",
       "      <td>Male</td>\n",
       "      <td>71</td>\n",
       "    </tr>\n",
       "    <tr>\n",
       "      <th>4</th>\n",
       "      <td>19</td>\n",
       "      <td>92</td>\n",
       "      <td>Medium</td>\n",
       "      <td>Medium</td>\n",
       "      <td>Yes</td>\n",
       "      <td>6</td>\n",
       "      <td>65</td>\n",
       "      <td>Medium</td>\n",
       "      <td>Yes</td>\n",
       "      <td>3</td>\n",
       "      <td>Medium</td>\n",
       "      <td>High</td>\n",
       "      <td>Public</td>\n",
       "      <td>Neutral</td>\n",
       "      <td>4</td>\n",
       "      <td>No</td>\n",
       "      <td>College</td>\n",
       "      <td>Near</td>\n",
       "      <td>Female</td>\n",
       "      <td>70</td>\n",
       "    </tr>\n",
       "  </tbody>\n",
       "</table>\n",
       "</div>"
      ],
      "text/plain": [
       "   Hours_Studied  Attendance Parental_Involvement Access_to_Resources  \\\n",
       "0             23          84                  Low                High   \n",
       "1             19          64                  Low              Medium   \n",
       "2             24          98               Medium              Medium   \n",
       "3             29          89                  Low              Medium   \n",
       "4             19          92               Medium              Medium   \n",
       "\n",
       "  Extracurricular_Activities  Sleep_Hours  Previous_Scores Motivation_Level  \\\n",
       "0                         No            7               73              Low   \n",
       "1                         No            8               59              Low   \n",
       "2                        Yes            7               91           Medium   \n",
       "3                        Yes            8               98           Medium   \n",
       "4                        Yes            6               65           Medium   \n",
       "\n",
       "  Internet_Access  Tutoring_Sessions Family_Income Teacher_Quality  \\\n",
       "0             Yes                  0           Low          Medium   \n",
       "1             Yes                  2        Medium          Medium   \n",
       "2             Yes                  2        Medium          Medium   \n",
       "3             Yes                  1        Medium          Medium   \n",
       "4             Yes                  3        Medium            High   \n",
       "\n",
       "  School_Type Peer_Influence  Physical_Activity Learning_Disabilities  \\\n",
       "0      Public       Positive                  3                    No   \n",
       "1      Public       Negative                  4                    No   \n",
       "2      Public        Neutral                  4                    No   \n",
       "3      Public       Negative                  4                    No   \n",
       "4      Public        Neutral                  4                    No   \n",
       "\n",
       "  Parental_Education_Level Distance_from_Home  Gender  Exam_Score  \n",
       "0              High School               Near    Male          67  \n",
       "1                  College           Moderate  Female          61  \n",
       "2             Postgraduate               Near    Male          74  \n",
       "3              High School           Moderate    Male          71  \n",
       "4                  College               Near  Female          70  "
      ]
     },
     "execution_count": 31,
     "metadata": {},
     "output_type": "execute_result"
    }
   ],
   "source": [
    "df.head()"
   ]
  },
  {
   "cell_type": "code",
   "execution_count": 32,
   "id": "bd9eb1ed",
   "metadata": {},
   "outputs": [
    {
     "name": "stdout",
     "output_type": "stream",
     "text": [
      "<class 'pandas.core.frame.DataFrame'>\n",
      "RangeIndex: 6607 entries, 0 to 6606\n",
      "Data columns (total 20 columns):\n",
      " #   Column                      Non-Null Count  Dtype \n",
      "---  ------                      --------------  ----- \n",
      " 0   Hours_Studied               6607 non-null   int64 \n",
      " 1   Attendance                  6607 non-null   int64 \n",
      " 2   Parental_Involvement        6607 non-null   object\n",
      " 3   Access_to_Resources         6607 non-null   object\n",
      " 4   Extracurricular_Activities  6607 non-null   object\n",
      " 5   Sleep_Hours                 6607 non-null   int64 \n",
      " 6   Previous_Scores             6607 non-null   int64 \n",
      " 7   Motivation_Level            6607 non-null   object\n",
      " 8   Internet_Access             6607 non-null   object\n",
      " 9   Tutoring_Sessions           6607 non-null   int64 \n",
      " 10  Family_Income               6607 non-null   object\n",
      " 11  Teacher_Quality             6529 non-null   object\n",
      " 12  School_Type                 6607 non-null   object\n",
      " 13  Peer_Influence              6607 non-null   object\n",
      " 14  Physical_Activity           6607 non-null   int64 \n",
      " 15  Learning_Disabilities       6607 non-null   object\n",
      " 16  Parental_Education_Level    6517 non-null   object\n",
      " 17  Distance_from_Home          6540 non-null   object\n",
      " 18  Gender                      6607 non-null   object\n",
      " 19  Exam_Score                  6607 non-null   int64 \n",
      "dtypes: int64(7), object(13)\n",
      "memory usage: 1.0+ MB\n"
     ]
    }
   ],
   "source": [
    "df.info()"
   ]
  },
  {
   "cell_type": "markdown",
   "id": "ad09a8fb",
   "metadata": {},
   "source": [
    "Observamos que hay 3 variables con resultados nulos, más adelante veremos si hay que modificarlos o directamente lo dejamos así"
   ]
  },
  {
   "cell_type": "markdown",
   "id": "95b82ec0",
   "metadata": {},
   "source": [
    "#### Vamos a crear nuevas variables a partir de las variables categóricas que hay"
   ]
  },
  {
   "cell_type": "code",
   "execution_count": 33,
   "id": "643219ae",
   "metadata": {},
   "outputs": [
    {
     "data": {
      "text/plain": [
       "Parental_Involvement\n",
       "Medium    3362\n",
       "High      1908\n",
       "Low       1337\n",
       "Name: count, dtype: int64"
      ]
     },
     "execution_count": 33,
     "metadata": {},
     "output_type": "execute_result"
    }
   ],
   "source": [
    "df['Parental_Involvement'].value_counts()"
   ]
  },
  {
   "cell_type": "code",
   "execution_count": 123,
   "id": "66cb9986",
   "metadata": {},
   "outputs": [],
   "source": [
    "Parental_Involvement = pd.get_dummies(data = df['Parental_Involvement'], prefix = 'PI').astype(int)"
   ]
  },
  {
   "cell_type": "code",
   "execution_count": 124,
   "id": "e2e1cc34",
   "metadata": {},
   "outputs": [],
   "source": [
    "df = pd.concat([df, Parental_Involvement], axis = 1)"
   ]
  },
  {
   "cell_type": "code",
   "execution_count": 125,
   "id": "5cc586cf",
   "metadata": {},
   "outputs": [],
   "source": [
    "Access_to_Resources\t= pd.get_dummies(data = df['Access_to_Resources'], prefix = 'AtR').astype(int)"
   ]
  },
  {
   "cell_type": "code",
   "execution_count": 126,
   "id": "0f6153e7",
   "metadata": {},
   "outputs": [],
   "source": [
    "df = pd.concat([df, Access_to_Resources], axis = 1)"
   ]
  },
  {
   "cell_type": "markdown",
   "id": "81dfa1dc",
   "metadata": {},
   "source": [
    "### La mayoría son desechadas más adelante debido a la bajísima correlación que tienen"
   ]
  },
  {
   "cell_type": "code",
   "execution_count": 127,
   "id": "85638772",
   "metadata": {},
   "outputs": [],
   "source": [
    "# df['Extracurricular_Activities'] = (df['Extracurricular_Activities'] == 'Yes').astype(int)"
   ]
  },
  {
   "cell_type": "code",
   "execution_count": 128,
   "id": "7ae80deb",
   "metadata": {},
   "outputs": [],
   "source": [
    "# Motivation_Level = pd.get_dummies(data = df['Motivation_Level']).astype(int)"
   ]
  },
  {
   "cell_type": "code",
   "execution_count": 129,
   "id": "76424ece",
   "metadata": {},
   "outputs": [],
   "source": [
    "# df = pd.concat([df, Motivation_Level], axis = 1)"
   ]
  },
  {
   "cell_type": "code",
   "execution_count": 130,
   "id": "f180d6f8",
   "metadata": {},
   "outputs": [],
   "source": [
    "# df['Internet_Access'] = (df['Internet_Access'] == 'Yes').astype(int)"
   ]
  },
  {
   "cell_type": "code",
   "execution_count": 131,
   "id": "6ba8842d",
   "metadata": {},
   "outputs": [],
   "source": [
    "# Teacher_Quality = pd.get_dummies(data = df['Teacher_Quality'], prefix = 'TQ').astype(int)"
   ]
  },
  {
   "cell_type": "code",
   "execution_count": 132,
   "id": "7c6daad5",
   "metadata": {},
   "outputs": [],
   "source": [
    "# df = pd.concat([df, Teacher_Quality], axis = 1)"
   ]
  },
  {
   "cell_type": "code",
   "execution_count": 133,
   "id": "b6295547",
   "metadata": {},
   "outputs": [],
   "source": [
    "# df['Private_School'] = (df['School_Type'] == 'Private').astype(int)"
   ]
  },
  {
   "cell_type": "code",
   "execution_count": 134,
   "id": "51904c9b",
   "metadata": {},
   "outputs": [],
   "source": [
    "# Peer_Influence = pd.get_dummies(data = df['Peer_Influence'], prefix = 'PeerI').astype(int)"
   ]
  },
  {
   "cell_type": "code",
   "execution_count": 135,
   "id": "6bea4219",
   "metadata": {},
   "outputs": [],
   "source": [
    "# df = pd.concat([df, Peer_Influence], axis = 1)"
   ]
  },
  {
   "cell_type": "code",
   "execution_count": 136,
   "id": "73d5bfee",
   "metadata": {},
   "outputs": [],
   "source": [
    "# df['Learning_Disabilities'] = (df['Learning_Disabilities'] == 'Yes').astype(int)"
   ]
  },
  {
   "cell_type": "code",
   "execution_count": 137,
   "id": "f1920da4",
   "metadata": {},
   "outputs": [],
   "source": [
    "# Parental_Education_Level = pd.get_dummies(data = df['Parental_Education_Level'], prefix = 'ParEd').astype(int)"
   ]
  },
  {
   "cell_type": "code",
   "execution_count": 138,
   "id": "b2097388",
   "metadata": {},
   "outputs": [],
   "source": [
    "# df = pd.concat([df, Parental_Education_Level], axis = 1)"
   ]
  },
  {
   "cell_type": "code",
   "execution_count": 139,
   "id": "deff36d4",
   "metadata": {},
   "outputs": [],
   "source": [
    "# df['Female'] = (df['Gender'] == 'Female').astype(int)"
   ]
  },
  {
   "cell_type": "code",
   "execution_count": 140,
   "id": "7ffa7086",
   "metadata": {},
   "outputs": [],
   "source": [
    "# Distance_from_Home = pd.get_dummies(data = df['Distance_from_Home'], prefix = 'DfH').astype(int)"
   ]
  },
  {
   "cell_type": "code",
   "execution_count": 141,
   "id": "69947748",
   "metadata": {},
   "outputs": [],
   "source": [
    "# df = pd.concat([df, Distance_from_Home], axis = 1)"
   ]
  },
  {
   "cell_type": "markdown",
   "id": "d26ed625",
   "metadata": {},
   "source": [
    "### Comprobamos cuánta correlación tiene cada variable numérica con el target 'Exam_Score'"
   ]
  },
  {
   "cell_type": "code",
   "execution_count": 142,
   "id": "34bde35c",
   "metadata": {},
   "outputs": [
    {
     "data": {
      "text/html": [
       "<div>\n",
       "<style scoped>\n",
       "    .dataframe tbody tr th:only-of-type {\n",
       "        vertical-align: middle;\n",
       "    }\n",
       "\n",
       "    .dataframe tbody tr th {\n",
       "        vertical-align: top;\n",
       "    }\n",
       "\n",
       "    .dataframe thead th {\n",
       "        text-align: right;\n",
       "    }\n",
       "</style>\n",
       "<table border=\"1\" class=\"dataframe\">\n",
       "  <thead>\n",
       "    <tr style=\"text-align: right;\">\n",
       "      <th></th>\n",
       "      <th>Hours_Studied</th>\n",
       "      <th>Attendance</th>\n",
       "      <th>Sleep_Hours</th>\n",
       "      <th>Previous_Scores</th>\n",
       "      <th>Tutoring_Sessions</th>\n",
       "      <th>Physical_Activity</th>\n",
       "      <th>Exam_Score</th>\n",
       "      <th>PI_High</th>\n",
       "      <th>PI_Low</th>\n",
       "      <th>PI_Medium</th>\n",
       "      <th>AtR_High</th>\n",
       "      <th>AtR_Low</th>\n",
       "      <th>AtR_Medium</th>\n",
       "    </tr>\n",
       "  </thead>\n",
       "  <tbody>\n",
       "    <tr>\n",
       "      <th>Hours_Studied</th>\n",
       "      <td>1.000000</td>\n",
       "      <td>-0.009908</td>\n",
       "      <td>0.010977</td>\n",
       "      <td>0.024846</td>\n",
       "      <td>-0.014282</td>\n",
       "      <td>0.004624</td>\n",
       "      <td>0.445455</td>\n",
       "      <td>-0.012819</td>\n",
       "      <td>0.013395</td>\n",
       "      <td>0.000856</td>\n",
       "      <td>0.002248</td>\n",
       "      <td>0.012119</td>\n",
       "      <td>-0.011730</td>\n",
       "    </tr>\n",
       "    <tr>\n",
       "      <th>Attendance</th>\n",
       "      <td>-0.009908</td>\n",
       "      <td>1.000000</td>\n",
       "      <td>-0.015918</td>\n",
       "      <td>-0.020186</td>\n",
       "      <td>0.014324</td>\n",
       "      <td>-0.022435</td>\n",
       "      <td>0.581072</td>\n",
       "      <td>-0.001619</td>\n",
       "      <td>0.014296</td>\n",
       "      <td>-0.010021</td>\n",
       "      <td>-0.006398</td>\n",
       "      <td>0.012798</td>\n",
       "      <td>-0.004356</td>\n",
       "    </tr>\n",
       "    <tr>\n",
       "      <th>Sleep_Hours</th>\n",
       "      <td>0.010977</td>\n",
       "      <td>-0.015918</td>\n",
       "      <td>1.000000</td>\n",
       "      <td>-0.021750</td>\n",
       "      <td>-0.012216</td>\n",
       "      <td>-0.000378</td>\n",
       "      <td>-0.017022</td>\n",
       "      <td>-0.004879</td>\n",
       "      <td>0.008250</td>\n",
       "      <td>-0.002207</td>\n",
       "      <td>-0.004368</td>\n",
       "      <td>0.020371</td>\n",
       "      <td>-0.012259</td>\n",
       "    </tr>\n",
       "    <tr>\n",
       "      <th>Previous_Scores</th>\n",
       "      <td>0.024846</td>\n",
       "      <td>-0.020186</td>\n",
       "      <td>-0.021750</td>\n",
       "      <td>1.000000</td>\n",
       "      <td>-0.013122</td>\n",
       "      <td>-0.011274</td>\n",
       "      <td>0.175079</td>\n",
       "      <td>-0.014023</td>\n",
       "      <td>0.020662</td>\n",
       "      <td>-0.003893</td>\n",
       "      <td>0.014023</td>\n",
       "      <td>-0.025673</td>\n",
       "      <td>0.007651</td>\n",
       "    </tr>\n",
       "    <tr>\n",
       "      <th>Tutoring_Sessions</th>\n",
       "      <td>-0.014282</td>\n",
       "      <td>0.014324</td>\n",
       "      <td>-0.012216</td>\n",
       "      <td>-0.013122</td>\n",
       "      <td>1.000000</td>\n",
       "      <td>0.017733</td>\n",
       "      <td>0.156525</td>\n",
       "      <td>0.003796</td>\n",
       "      <td>0.007929</td>\n",
       "      <td>-0.009813</td>\n",
       "      <td>-0.012923</td>\n",
       "      <td>0.005779</td>\n",
       "      <td>0.007220</td>\n",
       "    </tr>\n",
       "    <tr>\n",
       "      <th>Physical_Activity</th>\n",
       "      <td>0.004624</td>\n",
       "      <td>-0.022435</td>\n",
       "      <td>-0.000378</td>\n",
       "      <td>-0.011274</td>\n",
       "      <td>0.017733</td>\n",
       "      <td>1.000000</td>\n",
       "      <td>0.027824</td>\n",
       "      <td>-0.007838</td>\n",
       "      <td>0.000477</td>\n",
       "      <td>0.006722</td>\n",
       "      <td>-0.029187</td>\n",
       "      <td>-0.015991</td>\n",
       "      <td>0.039485</td>\n",
       "    </tr>\n",
       "    <tr>\n",
       "      <th>Exam_Score</th>\n",
       "      <td>0.445455</td>\n",
       "      <td>0.581072</td>\n",
       "      <td>-0.017022</td>\n",
       "      <td>0.175079</td>\n",
       "      <td>0.156525</td>\n",
       "      <td>0.027824</td>\n",
       "      <td>1.000000</td>\n",
       "      <td>0.140396</td>\n",
       "      <td>-0.113602</td>\n",
       "      <td>-0.035978</td>\n",
       "      <td>0.143766</td>\n",
       "      <td>-0.132155</td>\n",
       "      <td>-0.026158</td>\n",
       "    </tr>\n",
       "    <tr>\n",
       "      <th>PI_High</th>\n",
       "      <td>-0.012819</td>\n",
       "      <td>-0.001619</td>\n",
       "      <td>-0.004879</td>\n",
       "      <td>-0.014023</td>\n",
       "      <td>0.003796</td>\n",
       "      <td>-0.007838</td>\n",
       "      <td>0.140396</td>\n",
       "      <td>1.000000</td>\n",
       "      <td>-0.320957</td>\n",
       "      <td>-0.648602</td>\n",
       "      <td>-0.001714</td>\n",
       "      <td>0.028310</td>\n",
       "      <td>-0.021024</td>\n",
       "    </tr>\n",
       "    <tr>\n",
       "      <th>PI_Low</th>\n",
       "      <td>0.013395</td>\n",
       "      <td>0.014296</td>\n",
       "      <td>0.008250</td>\n",
       "      <td>0.020662</td>\n",
       "      <td>0.007929</td>\n",
       "      <td>0.000477</td>\n",
       "      <td>-0.113602</td>\n",
       "      <td>-0.320957</td>\n",
       "      <td>1.000000</td>\n",
       "      <td>-0.512687</td>\n",
       "      <td>0.011798</td>\n",
       "      <td>-0.032760</td>\n",
       "      <td>0.015343</td>\n",
       "    </tr>\n",
       "    <tr>\n",
       "      <th>PI_Medium</th>\n",
       "      <td>0.000856</td>\n",
       "      <td>-0.010021</td>\n",
       "      <td>-0.002207</td>\n",
       "      <td>-0.003893</td>\n",
       "      <td>-0.009813</td>\n",
       "      <td>0.006722</td>\n",
       "      <td>-0.035978</td>\n",
       "      <td>-0.648602</td>\n",
       "      <td>-0.512687</td>\n",
       "      <td>1.000000</td>\n",
       "      <td>-0.007928</td>\n",
       "      <td>0.000663</td>\n",
       "      <td>0.006729</td>\n",
       "    </tr>\n",
       "    <tr>\n",
       "      <th>AtR_High</th>\n",
       "      <td>0.002248</td>\n",
       "      <td>-0.006398</td>\n",
       "      <td>-0.004368</td>\n",
       "      <td>0.014023</td>\n",
       "      <td>-0.012923</td>\n",
       "      <td>-0.029187</td>\n",
       "      <td>0.143766</td>\n",
       "      <td>-0.001714</td>\n",
       "      <td>0.011798</td>\n",
       "      <td>-0.007928</td>\n",
       "      <td>1.000000</td>\n",
       "      <td>-0.325192</td>\n",
       "      <td>-0.656050</td>\n",
       "    </tr>\n",
       "    <tr>\n",
       "      <th>AtR_Low</th>\n",
       "      <td>0.012119</td>\n",
       "      <td>0.012798</td>\n",
       "      <td>0.020371</td>\n",
       "      <td>-0.025673</td>\n",
       "      <td>0.005779</td>\n",
       "      <td>-0.015991</td>\n",
       "      <td>-0.132155</td>\n",
       "      <td>0.028310</td>\n",
       "      <td>-0.032760</td>\n",
       "      <td>0.000663</td>\n",
       "      <td>-0.325192</td>\n",
       "      <td>1.000000</td>\n",
       "      <td>-0.500355</td>\n",
       "    </tr>\n",
       "    <tr>\n",
       "      <th>AtR_Medium</th>\n",
       "      <td>-0.011730</td>\n",
       "      <td>-0.004356</td>\n",
       "      <td>-0.012259</td>\n",
       "      <td>0.007651</td>\n",
       "      <td>0.007220</td>\n",
       "      <td>0.039485</td>\n",
       "      <td>-0.026158</td>\n",
       "      <td>-0.021024</td>\n",
       "      <td>0.015343</td>\n",
       "      <td>0.006729</td>\n",
       "      <td>-0.656050</td>\n",
       "      <td>-0.500355</td>\n",
       "      <td>1.000000</td>\n",
       "    </tr>\n",
       "  </tbody>\n",
       "</table>\n",
       "</div>"
      ],
      "text/plain": [
       "                   Hours_Studied  Attendance  Sleep_Hours  Previous_Scores  \\\n",
       "Hours_Studied           1.000000   -0.009908     0.010977         0.024846   \n",
       "Attendance             -0.009908    1.000000    -0.015918        -0.020186   \n",
       "Sleep_Hours             0.010977   -0.015918     1.000000        -0.021750   \n",
       "Previous_Scores         0.024846   -0.020186    -0.021750         1.000000   \n",
       "Tutoring_Sessions      -0.014282    0.014324    -0.012216        -0.013122   \n",
       "Physical_Activity       0.004624   -0.022435    -0.000378        -0.011274   \n",
       "Exam_Score              0.445455    0.581072    -0.017022         0.175079   \n",
       "PI_High                -0.012819   -0.001619    -0.004879        -0.014023   \n",
       "PI_Low                  0.013395    0.014296     0.008250         0.020662   \n",
       "PI_Medium               0.000856   -0.010021    -0.002207        -0.003893   \n",
       "AtR_High                0.002248   -0.006398    -0.004368         0.014023   \n",
       "AtR_Low                 0.012119    0.012798     0.020371        -0.025673   \n",
       "AtR_Medium             -0.011730   -0.004356    -0.012259         0.007651   \n",
       "\n",
       "                   Tutoring_Sessions  Physical_Activity  Exam_Score   PI_High  \\\n",
       "Hours_Studied              -0.014282           0.004624    0.445455 -0.012819   \n",
       "Attendance                  0.014324          -0.022435    0.581072 -0.001619   \n",
       "Sleep_Hours                -0.012216          -0.000378   -0.017022 -0.004879   \n",
       "Previous_Scores            -0.013122          -0.011274    0.175079 -0.014023   \n",
       "Tutoring_Sessions           1.000000           0.017733    0.156525  0.003796   \n",
       "Physical_Activity           0.017733           1.000000    0.027824 -0.007838   \n",
       "Exam_Score                  0.156525           0.027824    1.000000  0.140396   \n",
       "PI_High                     0.003796          -0.007838    0.140396  1.000000   \n",
       "PI_Low                      0.007929           0.000477   -0.113602 -0.320957   \n",
       "PI_Medium                  -0.009813           0.006722   -0.035978 -0.648602   \n",
       "AtR_High                   -0.012923          -0.029187    0.143766 -0.001714   \n",
       "AtR_Low                     0.005779          -0.015991   -0.132155  0.028310   \n",
       "AtR_Medium                  0.007220           0.039485   -0.026158 -0.021024   \n",
       "\n",
       "                     PI_Low  PI_Medium  AtR_High   AtR_Low  AtR_Medium  \n",
       "Hours_Studied      0.013395   0.000856  0.002248  0.012119   -0.011730  \n",
       "Attendance         0.014296  -0.010021 -0.006398  0.012798   -0.004356  \n",
       "Sleep_Hours        0.008250  -0.002207 -0.004368  0.020371   -0.012259  \n",
       "Previous_Scores    0.020662  -0.003893  0.014023 -0.025673    0.007651  \n",
       "Tutoring_Sessions  0.007929  -0.009813 -0.012923  0.005779    0.007220  \n",
       "Physical_Activity  0.000477   0.006722 -0.029187 -0.015991    0.039485  \n",
       "Exam_Score        -0.113602  -0.035978  0.143766 -0.132155   -0.026158  \n",
       "PI_High           -0.320957  -0.648602 -0.001714  0.028310   -0.021024  \n",
       "PI_Low             1.000000  -0.512687  0.011798 -0.032760    0.015343  \n",
       "PI_Medium         -0.512687   1.000000 -0.007928  0.000663    0.006729  \n",
       "AtR_High           0.011798  -0.007928  1.000000 -0.325192   -0.656050  \n",
       "AtR_Low           -0.032760   0.000663 -0.325192  1.000000   -0.500355  \n",
       "AtR_Medium         0.015343   0.006729 -0.656050 -0.500355    1.000000  "
      ]
     },
     "execution_count": 142,
     "metadata": {},
     "output_type": "execute_result"
    }
   ],
   "source": [
    "df.corr(numeric_only = True)"
   ]
  },
  {
   "cell_type": "markdown",
   "id": "c8d9a8a2",
   "metadata": {},
   "source": [
    "Variables a desechar: 'Sleep_Hours', 'Physical_Activity', 'PI_Medium', 'AtR_Medium'"
   ]
  },
  {
   "cell_type": "code",
   "execution_count": 19,
   "id": "61de282a",
   "metadata": {},
   "outputs": [
    {
     "data": {
      "text/plain": [
       "<Axes: >"
      ]
     },
     "execution_count": 19,
     "metadata": {},
     "output_type": "execute_result"
    },
    {
     "data": {
      "image/png": "[encoded data removed]",
      "text/plain": [
       "<Figure size 2000x1500 with 2 Axes>"
      ]
     },
     "metadata": {},
     "output_type": "display_data"
    }
   ],
   "source": [
    "plt.figure(figsize = (20 , 15))\n",
    "sns.heatmap(data = df.corr(numeric_only = True), cmap = 'coolwarm', vmin = -1, vmax = 1, annot = True)"
   ]
  },
  {
   "cell_type": "markdown",
   "id": "b8dfdc0e",
   "metadata": {},
   "source": [
    "#### Guardamos este dataset solo con variables numéricas para usarlo en la limpieza del mismo\n",
    "(lógicamente al haber creado variables numéricas a partir de variables categóricas y comprobar su baja relación ya hemos limpiado bastante el dataset, pero no suficiente)"
   ]
  },
  {
   "cell_type": "code",
   "execution_count": 146,
   "id": "80997656",
   "metadata": {},
   "outputs": [],
   "source": [
    "df.select_dtypes('number').to_csv(r'C:\\Users\\plaza\\Desktop\\Documentos_Clase\\ONLINE_DS_THEBRIDGE_Alejandro_Plaza\\Proyecto_ML\\data\\raw\\estudiantes_solo_num_sin_limpieza.csv', index = False)"
   ]
  }
 ],
 "metadata": {
  "kernelspec": {
   "display_name": "Python 3",
   "language": "python",
   "name": "python3"
  },
  "language_info": {
   "codemirror_mode": {
    "name": "ipython",
    "version": 3
   },
   "file_extension": ".py",
   "mimetype": "text/x-python",
   "name": "python",
   "nbconvert_exporter": "python",
   "pygments_lexer": "ipython3",
   "version": "3.13.2"
  }
 },
 "nbformat": 4,
 "nbformat_minor": 5
}
