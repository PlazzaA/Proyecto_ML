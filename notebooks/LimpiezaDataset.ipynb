{
 "cells": [
  {
   "cell_type": "markdown",
   "id": "35b93c06",
   "metadata": {},
   "source": [
    "## Traemos el csv que tenemos solo con variables numéricas"
   ]
  },
  {
   "cell_type": "code",
   "execution_count": 73,
   "id": "360fea08",
   "metadata": {},
   "outputs": [],
   "source": [
    "import numpy as np\n",
    "import pandas as pd\n",
    "import matplotlib.pyplot as plt\n",
    "import seaborn as sns\n",
    "from sklearn.model_selection import train_test_split"
   ]
  },
  {
   "cell_type": "markdown",
   "id": "7813d8e7",
   "metadata": {},
   "source": [
    "#### Traemos de vuelta el csv solo con variables nnuméricas"
   ]
  },
  {
   "cell_type": "code",
   "execution_count": 74,
   "id": "e119a086",
   "metadata": {},
   "outputs": [
    {
     "data": {
      "text/html": [
       "<div>\n",
       "<style scoped>\n",
       "    .dataframe tbody tr th:only-of-type {\n",
       "        vertical-align: middle;\n",
       "    }\n",
       "\n",
       "    .dataframe tbody tr th {\n",
       "        vertical-align: top;\n",
       "    }\n",
       "\n",
       "    .dataframe thead th {\n",
       "        text-align: right;\n",
       "    }\n",
       "</style>\n",
       "<table border=\"1\" class=\"dataframe\">\n",
       "  <thead>\n",
       "    <tr style=\"text-align: right;\">\n",
       "      <th></th>\n",
       "      <th>Hours_Studied</th>\n",
       "      <th>Attendance</th>\n",
       "      <th>Sleep_Hours</th>\n",
       "      <th>Previous_Scores</th>\n",
       "      <th>Tutoring_Sessions</th>\n",
       "      <th>Physical_Activity</th>\n",
       "      <th>Exam_Score</th>\n",
       "      <th>PI_High</th>\n",
       "      <th>PI_Low</th>\n",
       "      <th>PI_Medium</th>\n",
       "      <th>AtR_High</th>\n",
       "      <th>AtR_Low</th>\n",
       "      <th>AtR_Medium</th>\n",
       "    </tr>\n",
       "  </thead>\n",
       "  <tbody>\n",
       "    <tr>\n",
       "      <th>0</th>\n",
       "      <td>23</td>\n",
       "      <td>84</td>\n",
       "      <td>7</td>\n",
       "      <td>73</td>\n",
       "      <td>0</td>\n",
       "      <td>3</td>\n",
       "      <td>67</td>\n",
       "      <td>0</td>\n",
       "      <td>1</td>\n",
       "      <td>0</td>\n",
       "      <td>1</td>\n",
       "      <td>0</td>\n",
       "      <td>0</td>\n",
       "    </tr>\n",
       "    <tr>\n",
       "      <th>1</th>\n",
       "      <td>19</td>\n",
       "      <td>64</td>\n",
       "      <td>8</td>\n",
       "      <td>59</td>\n",
       "      <td>2</td>\n",
       "      <td>4</td>\n",
       "      <td>61</td>\n",
       "      <td>0</td>\n",
       "      <td>1</td>\n",
       "      <td>0</td>\n",
       "      <td>0</td>\n",
       "      <td>0</td>\n",
       "      <td>1</td>\n",
       "    </tr>\n",
       "    <tr>\n",
       "      <th>2</th>\n",
       "      <td>24</td>\n",
       "      <td>98</td>\n",
       "      <td>7</td>\n",
       "      <td>91</td>\n",
       "      <td>2</td>\n",
       "      <td>4</td>\n",
       "      <td>74</td>\n",
       "      <td>0</td>\n",
       "      <td>0</td>\n",
       "      <td>1</td>\n",
       "      <td>0</td>\n",
       "      <td>0</td>\n",
       "      <td>1</td>\n",
       "    </tr>\n",
       "    <tr>\n",
       "      <th>3</th>\n",
       "      <td>29</td>\n",
       "      <td>89</td>\n",
       "      <td>8</td>\n",
       "      <td>98</td>\n",
       "      <td>1</td>\n",
       "      <td>4</td>\n",
       "      <td>71</td>\n",
       "      <td>0</td>\n",
       "      <td>1</td>\n",
       "      <td>0</td>\n",
       "      <td>0</td>\n",
       "      <td>0</td>\n",
       "      <td>1</td>\n",
       "    </tr>\n",
       "    <tr>\n",
       "      <th>4</th>\n",
       "      <td>19</td>\n",
       "      <td>92</td>\n",
       "      <td>6</td>\n",
       "      <td>65</td>\n",
       "      <td>3</td>\n",
       "      <td>4</td>\n",
       "      <td>70</td>\n",
       "      <td>0</td>\n",
       "      <td>0</td>\n",
       "      <td>1</td>\n",
       "      <td>0</td>\n",
       "      <td>0</td>\n",
       "      <td>1</td>\n",
       "    </tr>\n",
       "  </tbody>\n",
       "</table>\n",
       "</div>"
      ],
      "text/plain": [
       "   Hours_Studied  Attendance  Sleep_Hours  Previous_Scores  Tutoring_Sessions  \\\n",
       "0             23          84            7               73                  0   \n",
       "1             19          64            8               59                  2   \n",
       "2             24          98            7               91                  2   \n",
       "3             29          89            8               98                  1   \n",
       "4             19          92            6               65                  3   \n",
       "\n",
       "   Physical_Activity  Exam_Score  PI_High  PI_Low  PI_Medium  AtR_High  \\\n",
       "0                  3          67        0       1          0         1   \n",
       "1                  4          61        0       1          0         0   \n",
       "2                  4          74        0       0          1         0   \n",
       "3                  4          71        0       1          0         0   \n",
       "4                  4          70        0       0          1         0   \n",
       "\n",
       "   AtR_Low  AtR_Medium  \n",
       "0        0           0  \n",
       "1        0           1  \n",
       "2        0           1  \n",
       "3        0           1  \n",
       "4        0           1  "
      ]
     },
     "execution_count": 74,
     "metadata": {},
     "output_type": "execute_result"
    }
   ],
   "source": [
    "df = pd.read_csv(r'C:\\Users\\plaza\\Desktop\\Documentos_Clase\\ONLINE_DS_THEBRIDGE_Alejandro_Plaza\\Proyecto_ML\\data\\raw\\estudiantes_solo_num_sin_limpieza.csv')\n",
    "df.head()"
   ]
  },
  {
   "cell_type": "markdown",
   "id": "66fbe804",
   "metadata": {},
   "source": [
    "### Como hemos visto antes, las variables que deberemos eliminar son:\n",
    "- 'Sleep_Hours'  \n",
    "- 'Physical_Activity'  \n",
    "- 'PI_Medium'  \n",
    "- 'AtR_Medium'  "
   ]
  },
  {
   "cell_type": "code",
   "execution_count": 75,
   "id": "3cd689cd",
   "metadata": {},
   "outputs": [],
   "source": [
    "df.drop(columns = ['Sleep_Hours', 'Physical_Activity', 'PI_Medium', 'AtR_Medium'], inplace = True)"
   ]
  },
  {
   "cell_type": "code",
   "execution_count": 76,
   "id": "868c9401",
   "metadata": {},
   "outputs": [
    {
     "data": {
      "text/plain": [
       "Index(['Hours_Studied', 'Attendance', 'Previous_Scores', 'Tutoring_Sessions',\n",
       "       'Exam_Score', 'PI_High', 'PI_Low', 'AtR_High', 'AtR_Low'],\n",
       "      dtype='object')"
      ]
     },
     "execution_count": 76,
     "metadata": {},
     "output_type": "execute_result"
    }
   ],
   "source": [
    "df.columns"
   ]
  },
  {
   "cell_type": "code",
   "execution_count": 77,
   "id": "3b65d62b",
   "metadata": {},
   "outputs": [
    {
     "data": {
      "text/html": [
       "<div>\n",
       "<style scoped>\n",
       "    .dataframe tbody tr th:only-of-type {\n",
       "        vertical-align: middle;\n",
       "    }\n",
       "\n",
       "    .dataframe tbody tr th {\n",
       "        vertical-align: top;\n",
       "    }\n",
       "\n",
       "    .dataframe thead th {\n",
       "        text-align: right;\n",
       "    }\n",
       "</style>\n",
       "<table border=\"1\" class=\"dataframe\">\n",
       "  <thead>\n",
       "    <tr style=\"text-align: right;\">\n",
       "      <th></th>\n",
       "      <th>Hours_Studied</th>\n",
       "      <th>Attendance</th>\n",
       "      <th>Previous_Scores</th>\n",
       "      <th>Tutoring_Sessions</th>\n",
       "      <th>Exam_Score</th>\n",
       "      <th>PI_High</th>\n",
       "      <th>PI_Low</th>\n",
       "      <th>AtR_High</th>\n",
       "      <th>AtR_Low</th>\n",
       "    </tr>\n",
       "  </thead>\n",
       "  <tbody>\n",
       "    <tr>\n",
       "      <th>0</th>\n",
       "      <td>23</td>\n",
       "      <td>84</td>\n",
       "      <td>73</td>\n",
       "      <td>0</td>\n",
       "      <td>67</td>\n",
       "      <td>0</td>\n",
       "      <td>1</td>\n",
       "      <td>1</td>\n",
       "      <td>0</td>\n",
       "    </tr>\n",
       "    <tr>\n",
       "      <th>1</th>\n",
       "      <td>19</td>\n",
       "      <td>64</td>\n",
       "      <td>59</td>\n",
       "      <td>2</td>\n",
       "      <td>61</td>\n",
       "      <td>0</td>\n",
       "      <td>1</td>\n",
       "      <td>0</td>\n",
       "      <td>0</td>\n",
       "    </tr>\n",
       "    <tr>\n",
       "      <th>2</th>\n",
       "      <td>24</td>\n",
       "      <td>98</td>\n",
       "      <td>91</td>\n",
       "      <td>2</td>\n",
       "      <td>74</td>\n",
       "      <td>0</td>\n",
       "      <td>0</td>\n",
       "      <td>0</td>\n",
       "      <td>0</td>\n",
       "    </tr>\n",
       "    <tr>\n",
       "      <th>3</th>\n",
       "      <td>29</td>\n",
       "      <td>89</td>\n",
       "      <td>98</td>\n",
       "      <td>1</td>\n",
       "      <td>71</td>\n",
       "      <td>0</td>\n",
       "      <td>1</td>\n",
       "      <td>0</td>\n",
       "      <td>0</td>\n",
       "    </tr>\n",
       "    <tr>\n",
       "      <th>4</th>\n",
       "      <td>19</td>\n",
       "      <td>92</td>\n",
       "      <td>65</td>\n",
       "      <td>3</td>\n",
       "      <td>70</td>\n",
       "      <td>0</td>\n",
       "      <td>0</td>\n",
       "      <td>0</td>\n",
       "      <td>0</td>\n",
       "    </tr>\n",
       "  </tbody>\n",
       "</table>\n",
       "</div>"
      ],
      "text/plain": [
       "   Hours_Studied  Attendance  Previous_Scores  Tutoring_Sessions  Exam_Score  \\\n",
       "0             23          84               73                  0          67   \n",
       "1             19          64               59                  2          61   \n",
       "2             24          98               91                  2          74   \n",
       "3             29          89               98                  1          71   \n",
       "4             19          92               65                  3          70   \n",
       "\n",
       "   PI_High  PI_Low  AtR_High  AtR_Low  \n",
       "0        0       1         1        0  \n",
       "1        0       1         0        0  \n",
       "2        0       0         0        0  \n",
       "3        0       1         0        0  \n",
       "4        0       0         0        0  "
      ]
     },
     "execution_count": 77,
     "metadata": {},
     "output_type": "execute_result"
    }
   ],
   "source": [
    "df.head()"
   ]
  },
  {
   "cell_type": "markdown",
   "id": "e7677918",
   "metadata": {},
   "source": [
    "### Significado de cada variable tras la limpieza:\n",
    "\n",
    "- Hours_Studied: Number of hours spent studying per week.\n",
    "- Attendance: Percentage of classes attended.\n",
    "- Previous_Scores: Mean scores from previous exams.\n",
    "- Tutoring_Sessions: Number of tutoring sessions attended per month.\n",
    "- <span style=\"display: inline-block; vertical-align: bottom;\">Exam_Score: Final exam score.</span>\n",
    "<span style=\"display: inline-block; vertical-align: bottom; font-size: 0.6em;\">(Target)</span>\n",
    "- PI_High: Higher parental involvement in the student's education.\n",
    "- PI_Low: Lower parental involvement in the student's education.\n",
    "- AtR_High: Higher availability of educational resources.\n",
    "- AtR_Low: Lower Availability of educational resources"
   ]
  },
  {
   "cell_type": "markdown",
   "id": "523bc051",
   "metadata": {},
   "source": [
    "#### Sabiendo que hay muy pocos valores para suspensos, creamos una función para generar dichos valores teniendo sentido"
   ]
  },
  {
   "cell_type": "code",
   "execution_count": 78,
   "id": "5888103e",
   "metadata": {},
   "outputs": [],
   "source": [
    "def generar_datos_suspensos(num_muestras=400):\n",
    "    \"\"\"\n",
    "    Genera datos sintéticos para estudiantes suspensos (Exam_Score < 50)\n",
    "    considerando las relaciones entre las variables.\n",
    "\n",
    "    Args:\n",
    "        num_muestras (int): El número de muestras a generar. Por defecto 400.\n",
    "\n",
    "    Returns:\n",
    "        pandas.DataFrame: Un DataFrame con los datos generados.\n",
    "    \"\"\"\n",
    "    # Inicializamos un diccionario para almacenar los datos generados\n",
    "    data = {\n",
    "        'Hours_Studied': [],\n",
    "        'Attendance': [],\n",
    "        'Previous_Scores': [],\n",
    "        'Tutoring_Sessions': [],\n",
    "        'Exam_Score': [],\n",
    "        'PI_High': [],\n",
    "        'PI_Low': [],\n",
    "        'AtR_High': [],\n",
    "        'AtR_Low': []\n",
    "    }\n",
    "\n",
    "    # Generamos los datos para cada muestra\n",
    "    for _ in range(num_muestras):\n",
    "        # Generamos las horas de estudio, con una media más baja para los suspensos\n",
    "        hours_studied = np.random.normal(loc=10, scale=5)\n",
    "        hours_studied = max(0, min(hours_studied, 15))  # Aseguramos que no sea negativo\n",
    "\n",
    "        # Generamos la asistencia, también con una media más baja\n",
    "        attendance = np.random.normal(loc=50, scale=10)\n",
    "        attendance = max(0, min(attendance, 65))  # Aseguramos el rango 0-100\n",
    "\n",
    "        # Generamos las notas previas, también con una media más baja\n",
    "        previous_scores = np.random.normal(loc=40, scale=10)\n",
    "        previous_scores = max(0, min(previous_scores, 100)) # Aseguramos el rango 0-100\n",
    "\n",
    "        # Generamos las sesiones de tutoría, con valores bajos\n",
    "        tutoring_sessions = np.random.poisson(lam=1)  # La mayoría tendrá 0 o 1\n",
    "\n",
    "        # Generamos la nota del examen, dependiente de las otras variables\n",
    "        exam_score = (0.6 * hours_studied + 0.2 * attendance + 0.1 * previous_scores +\n",
    "                      2 * tutoring_sessions + np.random.normal(loc=0, scale=8))\n",
    "        exam_score = max(0, min(exam_score, 49.9999))  # Aseguramos que esté por debajo de 50\n",
    "\n",
    "        # Generamos la implicación de los padres\n",
    "        pi_high = np.random.choice([0, 1], p=[0.7, 0.3])  # Más probable que sea baja implicación\n",
    "        pi_low = 1 - pi_high if pi_high == 1 else np.random.choice([0, 1]) #Si PI_High es 1, PI_Low es 0\n",
    "\n",
    "        # Generamos el acceso a recursos\n",
    "        atr_high = np.random.choice([0, 1], p=[0.6, 0.4])  # Más probable que sea bajo acceso\n",
    "        atr_low = 1 - atr_high if atr_high == 1 else np.random.choice([0, 1]) #Si ATR_High es 1, ATR_Low es 0\n",
    "\n",
    "        # Añadimos los datos generados al diccionario\n",
    "        data['Hours_Studied'].append(round(hours_studied))\n",
    "        data['Attendance'].append(round(attendance))\n",
    "        data['Previous_Scores'].append(round(previous_scores))\n",
    "        data['Tutoring_Sessions'].append(round(tutoring_sessions))\n",
    "        data['Exam_Score'].append(round(exam_score))\n",
    "        data['PI_High'].append(round(pi_high))\n",
    "        data['PI_Low'].append(round(pi_low))\n",
    "        data['AtR_High'].append(round(atr_high))\n",
    "        data['AtR_Low'].append(round(atr_low))\n",
    "\n",
    "    # Convertimos el diccionario a un DataFrame\n",
    "    df = pd.DataFrame(data)\n",
    "    return df"
   ]
  },
  {
   "cell_type": "code",
   "execution_count": 79,
   "id": "d5a05077",
   "metadata": {},
   "outputs": [],
   "source": [
    "suspensos = generar_datos_suspensos(num_muestras=3000)"
   ]
  },
  {
   "cell_type": "code",
   "execution_count": 80,
   "id": "944f32f0",
   "metadata": {},
   "outputs": [],
   "source": [
    "df = pd.concat([df, suspensos])"
   ]
  },
  {
   "cell_type": "code",
   "execution_count": 81,
   "id": "1fe83149",
   "metadata": {},
   "outputs": [],
   "source": [
    "def generar_datos_aprobados(num_muestras=400):\n",
    "    \"\"\"\n",
    "    Genera datos sintéticos para estudiantes aprobados (Exam_Score > 80)\n",
    "    considerando las relaciones entre las variables.\n",
    "\n",
    "    Args:\n",
    "        num_muestras (int): El número de muestras a generar. Por defecto 400.\n",
    "\n",
    "    Returns:\n",
    "        pandas.DataFrame: Un DataFrame con los datos generados.\n",
    "    \"\"\"\n",
    "    # Inicializamos un diccionario para almacenar los datos generados\n",
    "    data = {\n",
    "        'Hours_Studied': [],\n",
    "        'Attendance': [],\n",
    "        'Previous_Scores': [],\n",
    "        'Tutoring_Sessions': [],\n",
    "        'Exam_Score': [],\n",
    "        'PI_High': [],\n",
    "        'PI_Low': [],\n",
    "        'AtR_High': [],\n",
    "        'AtR_Low': []\n",
    "    }\n",
    "\n",
    "    # Generamos los datos para cada muestra\n",
    "    for _ in range(num_muestras):\n",
    "        # Generamos las horas de estudio, con una media más alta para los aprobados\n",
    "        hours_studied = np.random.normal(loc=30, scale=10)\n",
    "        hours_studied = max(10, min(hours_studied, 60))  # Aseguramos que no sea negativo\n",
    "\n",
    "        # Generamos la asistencia, también con una media más alta\n",
    "        attendance = np.random.normal(loc=90, scale=5)\n",
    "        attendance = max(85, min(attendance, 100))  # Aseguramos el rango 70-100\n",
    "\n",
    "        # Generamos las notas previas, también con una media más alta\n",
    "        previous_scores = np.random.normal(loc=85, scale=8)\n",
    "        previous_scores = max(50, min(previous_scores, 100))\n",
    "\n",
    "        # Generamos las sesiones de tutoría, con valores más altos, pero con menos varianza\n",
    "        tutoring_sessions = np.random.poisson(lam=3)  # La mayoría tendrá 2 o 3\n",
    "\n",
    "        # Generamos la nota del examen, dependiente de las otras variables, con media más alta\n",
    "        exam_score = (0.6 * hours_studied + 0.2 * attendance + 0.1 * previous_scores +\n",
    "                      2 * tutoring_sessions + np.random.normal(loc=10, scale=5))\n",
    "        exam_score = max(80, min(exam_score, 100))  # Aseguramos que esté por encima de 80\n",
    "\n",
    "        # Generamos la implicación de los padres\n",
    "        pi_high = np.random.choice([0, 1], p=[0.9, 0.1])  # Más probable que sea alta implicación\n",
    "        pi_low = 1 - pi_high if pi_high == 1 else np.random.choice([0, 1])\n",
    "\n",
    "        # Generamos el acceso a recursos\n",
    "        atr_high = np.random.choice([0, 1], p=[0.8, 0.2])  # Más probable que sea alto acceso\n",
    "        atr_low = 1 - atr_high if atr_high == 1 else np.random.choice([0, 1])\n",
    "\n",
    "        # Añadimos los datos generados al diccionario\n",
    "        data['Hours_Studied'].append(round(hours_studied))\n",
    "        data['Attendance'].append(round(attendance))\n",
    "        data['Previous_Scores'].append(round(previous_scores))\n",
    "        data['Tutoring_Sessions'].append(round(tutoring_sessions))\n",
    "        data['Exam_Score'].append(round(exam_score))\n",
    "        data['PI_High'].append(round(pi_high))\n",
    "        data['PI_Low'].append(round(pi_low))\n",
    "        data['AtR_High'].append(round(atr_high))\n",
    "        data['AtR_Low'].append(round(atr_low))\n",
    "\n",
    "    # Convertimos el diccionario a un DataFrame\n",
    "    df = pd.DataFrame(data)\n",
    "    return df"
   ]
  },
  {
   "cell_type": "code",
   "execution_count": 82,
   "id": "343b67a5",
   "metadata": {},
   "outputs": [],
   "source": [
    "aprobados = generar_datos_aprobados(num_muestras = 2000)"
   ]
  },
  {
   "cell_type": "code",
   "execution_count": 83,
   "id": "332d7016",
   "metadata": {},
   "outputs": [],
   "source": [
    "df = pd.concat([df, aprobados])"
   ]
  },
  {
   "cell_type": "markdown",
   "id": "9bc235cd",
   "metadata": {},
   "source": [
    "### Guardamos los datos ya procesados"
   ]
  },
  {
   "cell_type": "code",
   "execution_count": 84,
   "id": "98a67bbb",
   "metadata": {},
   "outputs": [],
   "source": [
    "df.to_csv(r'C:\\Users\\plaza\\Desktop\\Documentos_Clase\\ONLINE_DS_THEBRIDGE_Alejandro_Plaza\\Proyecto_ML\\data\\processed\\estudiantes.csv', index = False)"
   ]
  },
  {
   "cell_type": "markdown",
   "id": "847dd473",
   "metadata": {},
   "source": [
    "### Dividimos el dataset en train y en split para poder usarlo posteriormente"
   ]
  },
  {
   "cell_type": "code",
   "execution_count": 85,
   "id": "9e8e92c8",
   "metadata": {},
   "outputs": [
    {
     "name": "stdout",
     "output_type": "stream",
     "text": [
      "(9285, 9)\n",
      "(2322, 9)\n"
     ]
    }
   ],
   "source": [
    "train, test = train_test_split(df, test_size = 0.2, random_state = 42)\n",
    "print(train.shape)\n",
    "print(test.shape)"
   ]
  },
  {
   "cell_type": "markdown",
   "id": "8bf65309",
   "metadata": {},
   "source": [
    "#### Guardamos ambos dataset"
   ]
  },
  {
   "cell_type": "code",
   "execution_count": 86,
   "id": "5da7da57",
   "metadata": {},
   "outputs": [],
   "source": [
    "train.to_csv(r'C:\\Users\\plaza\\Desktop\\Documentos_Clase\\ONLINE_DS_THEBRIDGE_Alejandro_Plaza\\Proyecto_ML\\data\\train\\primer_train.csv', index = False)"
   ]
  },
  {
   "cell_type": "code",
   "execution_count": 87,
   "id": "48cfb817",
   "metadata": {},
   "outputs": [],
   "source": [
    "test.to_csv(r'C:\\Users\\plaza\\Desktop\\Documentos_Clase\\ONLINE_DS_THEBRIDGE_Alejandro_Plaza\\Proyecto_ML\\data\\test\\primer_test.csv', index = False)"
   ]
  }
 ],
 "metadata": {
  "kernelspec": {
   "display_name": "Python 3",
   "language": "python",
   "name": "python3"
  },
  "language_info": {
   "codemirror_mode": {
    "name": "ipython",
    "version": 3
   },
   "file_extension": ".py",
   "mimetype": "text/x-python",
   "name": "python",
   "nbconvert_exporter": "python",
   "pygments_lexer": "ipython3",
   "version": "3.13.2"
  }
 },
 "nbformat": 4,
 "nbformat_minor": 5
}
